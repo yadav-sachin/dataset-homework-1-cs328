{
 "cells": [
  {
   "cell_type": "code",
   "execution_count": 1,
   "metadata": {},
   "outputs": [],
   "source": [
    "import pandas as pd\n",
    "import numpy as np\n",
    "from random import randint\n",
    "import math\n",
    "from tqdm.notebook import tqdm"
   ]
  },
  {
   "cell_type": "code",
   "execution_count": 2,
   "metadata": {},
   "outputs": [],
   "source": [
    "data = pd.read_csv(\"cc_clustering_data.csv\")\n",
    "credit_df = pd.DataFrame(data)\n",
    "credit_df = credit_df.set_index('CUST_ID')\n",
    "credit_df = credit_df.dropna()\n",
    "norm_df=(credit_df-credit_df.min())/(credit_df.max()-credit_df.min())"
   ]
  },
  {
   "cell_type": "code",
   "execution_count": 3,
   "metadata": {},
   "outputs": [],
   "source": [
    "def find_distance(curr_df, row1_idx, row2_idx):\n",
    "    row1 = curr_df.iloc[row1_idx]\n",
    "    row2 = curr_df.iloc[row2_idx]\n",
    "    dist = np.sqrt(np.sum([ (a-b)*(a-b) for a, b in zip(row1, row2)]))\n",
    "    return dist"
   ]
  },
  {
   "cell_type": "code",
   "execution_count": 4,
   "metadata": {},
   "outputs": [],
   "source": [
    "def count_bits(num):\n",
    "    res = 0\n",
    "    while num > 0:\n",
    "        num = num & (num - 1)\n",
    "        res = res + 1\n",
    "    return res"
   ]
  },
  {
   "cell_type": "code",
   "execution_count": 5,
   "metadata": {},
   "outputs": [],
   "source": [
    "def k_center_greedy(local_df, num_k):\n",
    "    centers_list = []\n",
    "    num_rows = local_df.shape[0]\n",
    "    centers_list.append(randint(0, num_rows - 1))\n",
    "    for i in tqdm(range(num_k - 1), leave = False):\n",
    "        max_dist, max_dist_pt = 0, centers_list[0]\n",
    "        for row_id in range(num_rows):\n",
    "            row_dist = min([find_distance(local_df, row_id, j) for j in centers_list])\n",
    "            if (row_dist > max_dist):\n",
    "                max_dist = row_dist\n",
    "                max_dist_pt = row_id\n",
    "        centers_list.append(max_dist_pt)\n",
    "    cost_clustering = max(min([find_distance(local_df, row_id, j) for j in centers_list]) for row_id in range(num_rows))\n",
    "    return cost_clustering"
   ]
  },
  {
   "cell_type": "code",
   "execution_count": 18,
   "metadata": {},
   "outputs": [],
   "source": [
    "def generate_bitmasks_list(k , n):\n",
    "    res = []\n",
    "    bitmask = (1 << k) - 1\n",
    "    while bitmask <= ( (1 << n) -(1 << (n-k)) ):\n",
    "        res.append(bitmask)\n",
    "        a = bitmask & (-bitmask)\n",
    "        b = bitmask + a\n",
    "        bitmask = b | (((b ^ bitmask) >> 2)//a)\n",
    "    return res"
   ]
  },
  {
   "cell_type": "code",
   "execution_count": 7,
   "metadata": {},
   "outputs": [],
   "source": [
    "def k_center_optimal(local_df, num_k):\n",
    "    clustering_cost = math.inf\n",
    "    num_rows = local_df.shape[0]\n",
    "    allowed_bitmasks = generate_bitmasks_list(num_k, num_rows)\n",
    "    for bitmask in tqdm(allowed_bitmasks, leave = False):\n",
    "        centers_list = []\n",
    "        for row_id in range(num_rows):\n",
    "            if (bitmask & (1 << row_id)):\n",
    "                centers_list.append(row_id)\n",
    "        clustering_cost_candidate = max(min([find_distance(local_df, r_id, j) for j in centers_list]) for r_id in range(num_rows))\n",
    "        clustering_cost = min(clustering_cost, clustering_cost_candidate)\n",
    "    return clustering_cost\n",
    "        "
   ]
  },
  {
   "cell_type": "markdown",
   "metadata": {},
   "source": [
    "### Greedy Algo over all DataSet"
   ]
  },
  {
   "cell_type": "code",
   "execution_count": 20,
   "metadata": {
    "scrolled": true
   },
   "outputs": [
    {
     "name": "stdout",
     "output_type": "stream",
     "text": [
      "For Number of Clusters:  2\n"
     ]
    },
    {
     "data": {
      "application/vnd.jupyter.widget-view+json": {
       "model_id": "",
       "version_major": 2,
       "version_minor": 0
      },
      "text/plain": [
       "  0%|          | 0/1 [00:00<?, ?it/s]"
      ]
     },
     "metadata": {},
     "output_type": "display_data"
    },
    {
     "name": "stdout",
     "output_type": "stream",
     "text": [
      "Objective value of Greedy Algo : 2.1593968934215253 \n",
      "\n",
      "For Number of Clusters:  4\n"
     ]
    },
    {
     "data": {
      "application/vnd.jupyter.widget-view+json": {
       "model_id": "",
       "version_major": 2,
       "version_minor": 0
      },
      "text/plain": [
       "  0%|          | 0/3 [00:00<?, ?it/s]"
      ]
     },
     "metadata": {},
     "output_type": "display_data"
    },
    {
     "name": "stdout",
     "output_type": "stream",
     "text": [
      "Objective value of Greedy Algo : 1.846269438999143 \n",
      "\n",
      "For Number of Clusters:  10\n"
     ]
    },
    {
     "data": {
      "application/vnd.jupyter.widget-view+json": {
       "model_id": "",
       "version_major": 2,
       "version_minor": 0
      },
      "text/plain": [
       "  0%|          | 0/9 [00:00<?, ?it/s]"
      ]
     },
     "metadata": {},
     "output_type": "display_data"
    },
    {
     "name": "stdout",
     "output_type": "stream",
     "text": [
      "Objective value of Greedy Algo : 1.4913641238206745 \n",
      "\n"
     ]
    }
   ],
   "source": [
    "for k in [2, 4, 10]:\n",
    "    print(\"For Number of Clusters: \", k)\n",
    "    greedy_objective_value = k_center_greedy(norm_df, k)\n",
    "    print(\"Objective value of Greedy Algo :\", greedy_objective_value, \"\\n\")"
   ]
  },
  {
   "cell_type": "markdown",
   "metadata": {},
   "source": [
    "### Greedy v/s Optimal on Sample size of 20 "
   ]
  },
  {
   "cell_type": "code",
   "execution_count": 19,
   "metadata": {},
   "outputs": [
    {
     "name": "stdout",
     "output_type": "stream",
     "text": [
      "For Number of Clusters:  2\n"
     ]
    },
    {
     "data": {
      "application/vnd.jupyter.widget-view+json": {
       "model_id": "",
       "version_major": 2,
       "version_minor": 0
      },
      "text/plain": [
       "  0%|          | 0/1 [00:00<?, ?it/s]"
      ]
     },
     "metadata": {},
     "output_type": "display_data"
    },
    {
     "data": {
      "application/vnd.jupyter.widget-view+json": {
       "model_id": "",
       "version_major": 2,
       "version_minor": 0
      },
      "text/plain": [
       "  0%|          | 0/190 [00:00<?, ?it/s]"
      ]
     },
     "metadata": {},
     "output_type": "display_data"
    },
    {
     "name": "stdout",
     "output_type": "stream",
     "text": [
      "Objective value of Greedy Algo : 1.464181001245336\n",
      "Objective Value of Optimal Algo: 1.0535302518820355\n",
      "Approximation Factor : 1.3897854367539142 \n",
      "\n",
      "\n",
      "For Number of Clusters:  4\n"
     ]
    },
    {
     "data": {
      "application/vnd.jupyter.widget-view+json": {
       "model_id": "",
       "version_major": 2,
       "version_minor": 0
      },
      "text/plain": [
       "  0%|          | 0/3 [00:00<?, ?it/s]"
      ]
     },
     "metadata": {},
     "output_type": "display_data"
    },
    {
     "data": {
      "application/vnd.jupyter.widget-view+json": {
       "model_id": "",
       "version_major": 2,
       "version_minor": 0
      },
      "text/plain": [
       "  0%|          | 0/4845 [00:00<?, ?it/s]"
      ]
     },
     "metadata": {},
     "output_type": "display_data"
    },
    {
     "name": "stdout",
     "output_type": "stream",
     "text": [
      "Objective value of Greedy Algo : 1.1018027406242379\n",
      "Objective Value of Optimal Algo: 0.9636419999491286\n",
      "Approximation Factor : 1.1433735149385382 \n",
      "\n",
      "\n",
      "For Number of Clusters:  10\n"
     ]
    },
    {
     "data": {
      "application/vnd.jupyter.widget-view+json": {
       "model_id": "",
       "version_major": 2,
       "version_minor": 0
      },
      "text/plain": [
       "  0%|          | 0/9 [00:00<?, ?it/s]"
      ]
     },
     "metadata": {},
     "output_type": "display_data"
    },
    {
     "data": {
      "application/vnd.jupyter.widget-view+json": {
       "model_id": "",
       "version_major": 2,
       "version_minor": 0
      },
      "text/plain": [
       "  0%|          | 0/184756 [00:00<?, ?it/s]"
      ]
     },
     "metadata": {},
     "output_type": "display_data"
    },
    {
     "name": "stdout",
     "output_type": "stream",
     "text": [
      "Objective value of Greedy Algo : 0.511764351630979\n",
      "Objective Value of Optimal Algo: 0.4616924620962943\n",
      "Approximation Factor : 1.1084529067408542 \n",
      "\n",
      "\n"
     ]
    }
   ],
   "source": [
    "sample_df = norm_df.sample(n = 20)\n",
    "for k in [2, 4, 10]:\n",
    "    print(\"For Number of Clusters: \", k)\n",
    "    greedy_objective_value = k_center_greedy(sample_df, k)\n",
    "    optimal_objective_value = k_center_optimal(sample_df, k)\n",
    "    approx_factor = greedy_objective_value / optimal_objective_value\n",
    "    print(\"Objective value of Greedy Algo :\", greedy_objective_value)\n",
    "    print(\"Objective Value of Optimal Algo:\", optimal_objective_value)\n",
    "    print(\"Approximation Factor :\", approx_factor, \"\\n\\n\")"
   ]
  }
 ],
 "metadata": {
  "kernelspec": {
   "display_name": "Python 3",
   "language": "python",
   "name": "python3"
  },
  "language_info": {
   "codemirror_mode": {
    "name": "ipython",
    "version": 3
   },
   "file_extension": ".py",
   "mimetype": "text/x-python",
   "name": "python",
   "nbconvert_exporter": "python",
   "pygments_lexer": "ipython3",
   "version": "3.9.1"
  }
 },
 "nbformat": 4,
 "nbformat_minor": 4
}
