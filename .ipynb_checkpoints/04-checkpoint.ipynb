{
 "cells": [
  {
   "cell_type": "code",
   "execution_count": 1,
   "metadata": {},
   "outputs": [],
   "source": [
    "import pandas as pd"
   ]
  },
  {
   "cell_type": "code",
   "execution_count": 8,
   "metadata": {
    "collapsed": true
   },
   "outputs": [
    {
     "name": "stdout",
     "output_type": "stream",
     "text": [
      "          BALANCE  BALANCE_FREQUENCY  PURCHASES  ONEOFF_PURCHASES  \\\n",
      "CUST_ID                                                             \n",
      "C10001   0.002148           0.818182   0.001945          0.000000   \n",
      "C10002   0.168169           0.909091   0.000000          0.000000   \n",
      "C10003   0.131026           1.000000   0.015766          0.018968   \n",
      "C10005   0.042940           1.000000   0.000326          0.000393   \n",
      "C10006   0.095038           1.000000   0.027188          0.000000   \n",
      "...           ...                ...        ...               ...   \n",
      "C19184   0.000308           0.500000   0.000426          0.000513   \n",
      "C19186   0.001496           1.000000   0.005936          0.000000   \n",
      "C19188   0.001229           0.833333   0.002945          0.000000   \n",
      "C19189   0.000707           0.833333   0.000000          0.000000   \n",
      "C19190   0.019572           0.666667   0.022293          0.026821   \n",
      "\n",
      "         INSTALLMENTS_PURCHASES  CASH_ADVANCE  PURCHASES_FREQUENCY  \\\n",
      "CUST_ID                                                              \n",
      "C10001                 0.004240      0.000000             0.166667   \n",
      "C10002                 0.000000      0.136685             0.000000   \n",
      "C10003                 0.000000      0.000000             1.000000   \n",
      "C10005                 0.000000      0.000000             0.083333   \n",
      "C10006                 0.059257      0.000000             0.666667   \n",
      "...                         ...           ...                  ...   \n",
      "C19184                 0.000000      0.000000             0.166667   \n",
      "C19186                 0.012939      0.000000             1.000000   \n",
      "C19188                 0.006418      0.000000             0.833333   \n",
      "C19189                 0.000000      0.000776             0.000000   \n",
      "C19190                 0.000000      0.002695             0.666667   \n",
      "\n",
      "         ONEOFF_PURCHASES_FREQUENCY  PURCHASES_INSTALLMENTS_FREQUENCY  \\\n",
      "CUST_ID                                                                 \n",
      "C10001                     0.000000                          0.083333   \n",
      "C10002                     0.000000                          0.000000   \n",
      "C10003                     1.000000                          0.000000   \n",
      "C10005                     0.083333                          0.000000   \n",
      "C10006                     0.000000                          0.583333   \n",
      "...                             ...                               ...   \n",
      "C19184                     0.166667                          0.000000   \n",
      "C19186                     0.000000                          0.833333   \n",
      "C19188                     0.000000                          0.666667   \n",
      "C19189                     0.000000                          0.000000   \n",
      "C19190                     0.666667                          0.000000   \n",
      "\n",
      "         CASH_ADVANCE_FREQUENCY  CASH_ADVANCE_TRX  PURCHASES_TRX  \\\n",
      "CUST_ID                                                            \n",
      "C10001                 0.000000           0.00000       0.005587   \n",
      "C10002                 0.166667           0.03252       0.000000   \n",
      "C10003                 0.000000           0.00000       0.033520   \n",
      "C10005                 0.000000           0.00000       0.002793   \n",
      "C10006                 0.000000           0.00000       0.022346   \n",
      "...                         ...               ...            ...   \n",
      "C19184                 0.000000           0.00000       0.002793   \n",
      "C19186                 0.000000           0.00000       0.016760   \n",
      "C19188                 0.000000           0.00000       0.013966   \n",
      "C19189                 0.111111           0.01626       0.000000   \n",
      "C19190                 0.222222           0.01626       0.064246   \n",
      "\n",
      "         CREDIT_LIMIT  PAYMENTS  MINIMUM_PAYMENTS  PRC_FULL_PAYMENT  TENURE  \n",
      "CUST_ID                                                                      \n",
      "C10001       0.031720  0.003978          0.001826          0.000000     1.0  \n",
      "C10002       0.232053  0.080892          0.014034          0.222222     1.0  \n",
      "C10003       0.248748  0.012263          0.008210          0.000000     1.0  \n",
      "C10005       0.038397  0.013373          0.003204          0.000000     1.0  \n",
      "C10006       0.058431  0.027602          0.031506          0.000000     1.0  \n",
      "...               ...       ...               ...               ...     ...  \n",
      "C19184       0.015025  0.001155          0.000569          0.000000     0.0  \n",
      "C19186       0.031720  0.006418          0.000640          0.500000     0.0  \n",
      "C19188       0.031720  0.001601          0.001078          0.250000     0.0  \n",
      "C19189       0.015025  0.001035          0.000729          0.250000     0.0  \n",
      "C19190       0.038397  0.001244          0.001155          0.000000     0.0  \n",
      "\n",
      "[8636 rows x 17 columns]\n"
     ]
    }
   ],
   "source": [
    "data = pd.read_csv(\"cc_clustering_data.csv\")\n",
    "credit_df = pd.DataFrame(data)\n",
    "credit_df = credit_df.set_index('CUST_ID')\n",
    "credit_df = credit_df.dropna()\n",
    "norm_df=(credit_df-credit_df.min())/(credit_df.max()-credit_df.min())\n",
    "print(norm_df)"
   ]
  },
  {
   "cell_type": "code",
   "execution_count": null,
   "metadata": {},
   "outputs": [],
   "source": [
    "num_dimensions = len(norm_df.columns) - 1\n",
    "print(num_dimensions)"
   ]
  },
  {
   "cell_type": "code",
   "execution_count": 12,
   "metadata": {},
   "outputs": [],
   "source": [
    "def find_distance(curr_df, row1_idx, row2_idx):\n",
    "    row1 = curr_df.iloc[row1_idx]\n",
    "    row2 = curr_df.iloc[row2_idx]\n",
    "    print(row1.shape)\n",
    "    print(curr_df.shape)\n",
    "#     print(row1, row2)"
   ]
  },
  {
   "cell_type": "code",
   "execution_count": null,
   "metadata": {},
   "outputs": [],
   "source": [
    "def find_farthest(local_df, from_row_index):\n",
    "    given_row = local_df.loc[from_row_index]\n",
    "    res_row = given_row.copy()\n",
    "    for row in local_df.rows:\n",
    "        "
   ]
  },
  {
   "cell_type": "code",
   "execution_count": null,
   "metadata": {},
   "outputs": [],
   "source": [
    "def k_center_greedy(num_k):\n",
    "    centers_list = []\n",
    "    local_df = norm_df.copy()\n",
    "    num_rows = local_df.shape[0]\n",
    "    num_cols = local_df.shape[1]\n",
    "    num_dims = num_cols - 1\n",
    "    first_row = local_df.sample(n = 1)\n",
    "    centers_list = "
   ]
  },
  {
   "cell_type": "code",
   "execution_count": null,
   "metadata": {},
   "outputs": [],
   "source": [
    "for k in [2, 4, 10]:\n",
    "    "
   ]
  },
  {
   "cell_type": "code",
   "execution_count": 13,
   "metadata": {},
   "outputs": [
    {
     "name": "stdout",
     "output_type": "stream",
     "text": [
      "(17,)\n",
      "BALANCE                             0.131026\n",
      "BALANCE_FREQUENCY                   1.000000\n",
      "PURCHASES                           0.015766\n",
      "ONEOFF_PURCHASES                    0.018968\n",
      "INSTALLMENTS_PURCHASES              0.000000\n",
      "CASH_ADVANCE                        0.000000\n",
      "PURCHASES_FREQUENCY                 1.000000\n",
      "ONEOFF_PURCHASES_FREQUENCY          1.000000\n",
      "PURCHASES_INSTALLMENTS_FREQUENCY    0.000000\n",
      "CASH_ADVANCE_FREQUENCY              0.000000\n",
      "CASH_ADVANCE_TRX                    0.000000\n",
      "PURCHASES_TRX                       0.033520\n",
      "CREDIT_LIMIT                        0.248748\n",
      "PAYMENTS                            0.012263\n",
      "MINIMUM_PAYMENTS                    0.008210\n",
      "PRC_FULL_PAYMENT                    0.000000\n",
      "TENURE                              1.000000\n",
      "Name: C10003, dtype: float64 BALANCE                             0.042940\n",
      "BALANCE_FREQUENCY                   1.000000\n",
      "PURCHASES                           0.000326\n",
      "ONEOFF_PURCHASES                    0.000393\n",
      "INSTALLMENTS_PURCHASES              0.000000\n",
      "CASH_ADVANCE                        0.000000\n",
      "PURCHASES_FREQUENCY                 0.083333\n",
      "ONEOFF_PURCHASES_FREQUENCY          0.083333\n",
      "PURCHASES_INSTALLMENTS_FREQUENCY    0.000000\n",
      "CASH_ADVANCE_FREQUENCY              0.000000\n",
      "CASH_ADVANCE_TRX                    0.000000\n",
      "PURCHASES_TRX                       0.002793\n",
      "CREDIT_LIMIT                        0.038397\n",
      "PAYMENTS                            0.013373\n",
      "MINIMUM_PAYMENTS                    0.003204\n",
      "PRC_FULL_PAYMENT                    0.000000\n",
      "TENURE                              1.000000\n",
      "Name: C10005, dtype: float64\n"
     ]
    }
   ],
   "source": [
    "find_distance(norm_df, 2, 3)"
   ]
  }
 ],
 "metadata": {
  "kernelspec": {
   "display_name": "Python 3",
   "language": "python",
   "name": "python3"
  },
  "language_info": {
   "codemirror_mode": {
    "name": "ipython",
    "version": 3
   },
   "file_extension": ".py",
   "mimetype": "text/x-python",
   "name": "python",
   "nbconvert_exporter": "python",
   "pygments_lexer": "ipython3",
   "version": "3.8.2"
  }
 },
 "nbformat": 4,
 "nbformat_minor": 4
}
